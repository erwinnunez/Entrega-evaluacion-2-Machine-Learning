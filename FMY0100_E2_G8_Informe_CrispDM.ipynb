{
  "nbformat": 4,
  "nbformat_minor": 0,
  "metadata": {
    "colab": {
      "provenance": []
    },
    "kernelspec": {
      "name": "python3",
      "display_name": "Python 3"
    },
    "language_info": {
      "name": "python"
    }
  },
  "cells": [
    {
      "cell_type": "markdown",
      "source": [
        "![](https://www.googleapis.com/download/storage/v1/b/kaggle-user-content/o/inbox%2F4895752%2F391fac1718d81b6c7cf0b53eb231d562%2Finbox_4895752_5e4735cb769c6be5f5872a052d0007e2_841520521_preview_20170113163124_2.jpg?generation=1597574096430659&alt=media)\n",
        "\n",
        "# Modelos de regresión\n",
        "\n",
        "**Autor/es:**\n",
        "+ Giovanni Barra\n",
        "+ Erwin Nuñez\n",
        "+ Luis Saez\n",
        "\n",
        "**Correos Electrónicos:**\n",
        "+ gio.barra@duocuc.cl\n",
        "+ er.nunez@duocuc.cl\n",
        "+ lu.saezd@duocuc.cl\n",
        "\n",
        "**Fecha de Creación:** 15 de Octubre del 2024  \n",
        "**Versión:** 1.0\n",
        "\n",
        "---\n",
        "\n",
        "## Descripción\n",
        "\n",
        "Este notebook contiene el desarrollo de la evaluación de modelos de regresión de la asignatura de Fundamentos de Machine Learning de la carrera de Ingeniería en informática de DuocUC - Sede Concepción"
      ],
      "metadata": {
        "id": "NEhIUBJrgKqs"
      }
    },
    {
      "cell_type": "markdown",
      "source": [
        "# Preparación del Entorno de trabajo"
      ],
      "metadata": {
        "id": "qWzTqC9dg_4z"
      }
    },
    {
      "cell_type": "code",
      "source": [
        "import pickle\n",
        "import pandas as pd\n",
        "import seaborn as sns\n",
        "import matplotlib.pyplot as plt\n",
        "from seaborn import lmplot, boxplot, violinplot, kdeplot\n",
        "from tabulate import tabulate\n",
        "import random\n",
        "import scipy.stats as stats\n",
        "from ipywidgets import interactive\n",
        "from scipy.stats import norm\n",
        "import math\n",
        "import numpy as np\n",
        "\n",
        "from sklearn.linear_model import LinearRegression\n",
        "from sklearn.model_selection import train_test_split\n",
        "from sklearn.tree import DecisionTreeRegressor\n",
        "from sklearn.ensemble import RandomForestRegressor\n",
        "from sklearn.metrics import mean_absolute_error, mean_squared_log_error, r2_score"
      ],
      "metadata": {
        "id": "t7K3vNQWhEko"
      },
      "execution_count": 1,
      "outputs": []
    },
    {
      "cell_type": "code",
      "source": [
        "!wget https://www.dropbox.com/s/sst1u94436vqca6/demo_round_traces.csv"
      ],
      "metadata": {
        "colab": {
          "base_uri": "https://localhost:8080/"
        },
        "id": "8sAlboM3hH98",
        "outputId": "ec7f6827-8091-47fc-ae22-c18624618cb9"
      },
      "execution_count": 2,
      "outputs": [
        {
          "output_type": "stream",
          "name": "stdout",
          "text": [
            "--2024-10-16 12:42:38--  https://www.dropbox.com/s/sst1u94436vqca6/demo_round_traces.csv\n",
            "Resolving www.dropbox.com (www.dropbox.com)... 162.125.5.18, 2620:100:601d:18::a27d:512\n",
            "Connecting to www.dropbox.com (www.dropbox.com)|162.125.5.18|:443... connected.\n",
            "HTTP request sent, awaiting response... 302 Found\n",
            "Location: https://www.dropbox.com/scl/fi/ujmigz0ky1r9ps75u8h1d/demo_round_traces.csv?rlkey=24f4k6ipomzkq1lj8kz2gayds [following]\n",
            "--2024-10-16 12:42:38--  https://www.dropbox.com/scl/fi/ujmigz0ky1r9ps75u8h1d/demo_round_traces.csv?rlkey=24f4k6ipomzkq1lj8kz2gayds\n",
            "Reusing existing connection to www.dropbox.com:443.\n",
            "HTTP request sent, awaiting response... 302 Found\n",
            "Location: https://ucd37dbbfcfd7e740c007dce34ec.dl.dropboxusercontent.com/cd/0/inline/Ccj-3JMsQooG1Knzo0Y8EH0QprWNwL0fjBgwhr8UuYfTbbVcVE4Q-XW18fMsn505DsVWttjLQrZyIbDhhy9Cr9GsK0a7v2OvfbaDhe4IlFH6VnbWA8eE5OYgm6b0AFlb9500MSUrUa0CeGYvx69UvPZT/file# [following]\n",
            "--2024-10-16 12:42:41--  https://ucd37dbbfcfd7e740c007dce34ec.dl.dropboxusercontent.com/cd/0/inline/Ccj-3JMsQooG1Knzo0Y8EH0QprWNwL0fjBgwhr8UuYfTbbVcVE4Q-XW18fMsn505DsVWttjLQrZyIbDhhy9Cr9GsK0a7v2OvfbaDhe4IlFH6VnbWA8eE5OYgm6b0AFlb9500MSUrUa0CeGYvx69UvPZT/file\n",
            "Resolving ucd37dbbfcfd7e740c007dce34ec.dl.dropboxusercontent.com (ucd37dbbfcfd7e740c007dce34ec.dl.dropboxusercontent.com)... 162.125.5.15, 2620:100:601d:15::a27d:50f\n",
            "Connecting to ucd37dbbfcfd7e740c007dce34ec.dl.dropboxusercontent.com (ucd37dbbfcfd7e740c007dce34ec.dl.dropboxusercontent.com)|162.125.5.15|:443... connected.\n",
            "HTTP request sent, awaiting response... 200 OK\n",
            "Length: 21482809 (20M) [text/plain]\n",
            "Saving to: ‘demo_round_traces.csv’\n",
            "\n",
            "demo_round_traces.c 100%[===================>]  20.49M  44.5MB/s    in 0.5s    \n",
            "\n",
            "2024-10-16 12:42:42 (44.5 MB/s) - ‘demo_round_traces.csv’ saved [21482809/21482809]\n",
            "\n"
          ]
        }
      ]
    },
    {
      "cell_type": "code",
      "source": [
        "def interpretacion(algoritmo : str, caracteristicas : np.array, score : float):\n",
        "  print(f\"\"\"Modelo de regresión {algoritmo} {score :.2%} de la variabilidad de tiempo que demora un jugador en realizar la primera\n",
        "kill de la ronda se puede explicar utilizando las {len(caracteristicas)} caracteristicas.\n",
        "Caracteristicas elegidas :{caracteristicas.values}.\"\"\")\n",
        "\n",
        "def mae_interpretacion(modelo : str, value : float):\n",
        "  print(f\"\"\"MAE: El modelo '{modelo}' pudo predecir que el tiempo que demora un jugador en realizar la primera kill de la ronda es ± {value:.2f} segundos del tiempo real.\"\"\")\n",
        "\n",
        "def msle_interpretacion(modelo : str, value : float):\n",
        "  print(f\"\"\"MSLE: El modelo '{modelo}' pudo predecir el tiempo que demora un jugador en realizar la primera\n",
        "kill de la ronda es de  ± {value: .2%} del tiempo real.\"\"\")\n"
      ],
      "metadata": {
        "id": "486zXYELWllV"
      },
      "execution_count": 3,
      "outputs": []
    },
    {
      "cell_type": "code",
      "source": [
        "counter_strike = pd.read_csv('demo_round_traces.csv', sep=';')\n",
        "counter_strike.head()"
      ],
      "metadata": {
        "colab": {
          "base_uri": "https://localhost:8080/",
          "height": 273
        },
        "id": "W9zJFY-uhKDo",
        "outputId": "ef824d75-b80a-4369-a0e9-47b20b561a90"
      },
      "execution_count": 4,
      "outputs": [
        {
          "output_type": "execute_result",
          "data": {
            "text/plain": [
              "   Unnamed: 0         Map       Team  InternalTeamId  MatchId  RoundId  \\\n",
              "0         600  de_inferno  Terrorist               1        4        1   \n",
              "1         601  de_inferno  Terrorist               1        4        1   \n",
              "2         602  de_inferno  Terrorist               1        4        1   \n",
              "3         603  de_inferno  Terrorist               1        4        1   \n",
              "4         604  de_inferno  Terrorist               1        4        1   \n",
              "\n",
              "             SteamId  RoundWinner  MatchWinner  Survived  ...  RoundAssists  \\\n",
              "0  76561198036987787        False         True     False  ...             0   \n",
              "1  76561197971812216        False         True     False  ...             0   \n",
              "2  76561197972240652        False         True     False  ...             0   \n",
              "3  76561197975824962        False         True     False  ...             0   \n",
              "4  76561197960331095        False         True      True  ...             0   \n",
              "\n",
              "   RoundHeadshots  RoundFlankKills  RoundStartingEquipmentValue  \\\n",
              "0               0                0                          750   \n",
              "1               0                0                          800   \n",
              "2               0                0                         1000   \n",
              "3               0                0                          850   \n",
              "4               0                0                         1000   \n",
              "\n",
              "   TeamStartingEquipmentValue  MatchKills  MatchFlankKills  MatchAssists  \\\n",
              "0                        4400           0                0             0   \n",
              "1                        4400           0                0             0   \n",
              "2                        4400           0                0             0   \n",
              "3                        4400           0                0             0   \n",
              "4                        4400           0                0             0   \n",
              "\n",
              "   MatchHeadshots  AvgMatchKillDist  \n",
              "0               0     501379.183091  \n",
              "1               0     208807.587297  \n",
              "2               0     381652.027911  \n",
              "3               0     289754.503091  \n",
              "4               0     254527.691176  \n",
              "\n",
              "[5 rows x 37 columns]"
            ],
            "text/html": [
              "\n",
              "  <div id=\"df-d1d06c3d-ec4d-461c-8507-9214bf9d7309\" class=\"colab-df-container\">\n",
              "    <div>\n",
              "<style scoped>\n",
              "    .dataframe tbody tr th:only-of-type {\n",
              "        vertical-align: middle;\n",
              "    }\n",
              "\n",
              "    .dataframe tbody tr th {\n",
              "        vertical-align: top;\n",
              "    }\n",
              "\n",
              "    .dataframe thead th {\n",
              "        text-align: right;\n",
              "    }\n",
              "</style>\n",
              "<table border=\"1\" class=\"dataframe\">\n",
              "  <thead>\n",
              "    <tr style=\"text-align: right;\">\n",
              "      <th></th>\n",
              "      <th>Unnamed: 0</th>\n",
              "      <th>Map</th>\n",
              "      <th>Team</th>\n",
              "      <th>InternalTeamId</th>\n",
              "      <th>MatchId</th>\n",
              "      <th>RoundId</th>\n",
              "      <th>SteamId</th>\n",
              "      <th>RoundWinner</th>\n",
              "      <th>MatchWinner</th>\n",
              "      <th>Survived</th>\n",
              "      <th>...</th>\n",
              "      <th>RoundAssists</th>\n",
              "      <th>RoundHeadshots</th>\n",
              "      <th>RoundFlankKills</th>\n",
              "      <th>RoundStartingEquipmentValue</th>\n",
              "      <th>TeamStartingEquipmentValue</th>\n",
              "      <th>MatchKills</th>\n",
              "      <th>MatchFlankKills</th>\n",
              "      <th>MatchAssists</th>\n",
              "      <th>MatchHeadshots</th>\n",
              "      <th>AvgMatchKillDist</th>\n",
              "    </tr>\n",
              "  </thead>\n",
              "  <tbody>\n",
              "    <tr>\n",
              "      <th>0</th>\n",
              "      <td>600</td>\n",
              "      <td>de_inferno</td>\n",
              "      <td>Terrorist</td>\n",
              "      <td>1</td>\n",
              "      <td>4</td>\n",
              "      <td>1</td>\n",
              "      <td>76561198036987787</td>\n",
              "      <td>False</td>\n",
              "      <td>True</td>\n",
              "      <td>False</td>\n",
              "      <td>...</td>\n",
              "      <td>0</td>\n",
              "      <td>0</td>\n",
              "      <td>0</td>\n",
              "      <td>750</td>\n",
              "      <td>4400</td>\n",
              "      <td>0</td>\n",
              "      <td>0</td>\n",
              "      <td>0</td>\n",
              "      <td>0</td>\n",
              "      <td>501379.183091</td>\n",
              "    </tr>\n",
              "    <tr>\n",
              "      <th>1</th>\n",
              "      <td>601</td>\n",
              "      <td>de_inferno</td>\n",
              "      <td>Terrorist</td>\n",
              "      <td>1</td>\n",
              "      <td>4</td>\n",
              "      <td>1</td>\n",
              "      <td>76561197971812216</td>\n",
              "      <td>False</td>\n",
              "      <td>True</td>\n",
              "      <td>False</td>\n",
              "      <td>...</td>\n",
              "      <td>0</td>\n",
              "      <td>0</td>\n",
              "      <td>0</td>\n",
              "      <td>800</td>\n",
              "      <td>4400</td>\n",
              "      <td>0</td>\n",
              "      <td>0</td>\n",
              "      <td>0</td>\n",
              "      <td>0</td>\n",
              "      <td>208807.587297</td>\n",
              "    </tr>\n",
              "    <tr>\n",
              "      <th>2</th>\n",
              "      <td>602</td>\n",
              "      <td>de_inferno</td>\n",
              "      <td>Terrorist</td>\n",
              "      <td>1</td>\n",
              "      <td>4</td>\n",
              "      <td>1</td>\n",
              "      <td>76561197972240652</td>\n",
              "      <td>False</td>\n",
              "      <td>True</td>\n",
              "      <td>False</td>\n",
              "      <td>...</td>\n",
              "      <td>0</td>\n",
              "      <td>0</td>\n",
              "      <td>0</td>\n",
              "      <td>1000</td>\n",
              "      <td>4400</td>\n",
              "      <td>0</td>\n",
              "      <td>0</td>\n",
              "      <td>0</td>\n",
              "      <td>0</td>\n",
              "      <td>381652.027911</td>\n",
              "    </tr>\n",
              "    <tr>\n",
              "      <th>3</th>\n",
              "      <td>603</td>\n",
              "      <td>de_inferno</td>\n",
              "      <td>Terrorist</td>\n",
              "      <td>1</td>\n",
              "      <td>4</td>\n",
              "      <td>1</td>\n",
              "      <td>76561197975824962</td>\n",
              "      <td>False</td>\n",
              "      <td>True</td>\n",
              "      <td>False</td>\n",
              "      <td>...</td>\n",
              "      <td>0</td>\n",
              "      <td>0</td>\n",
              "      <td>0</td>\n",
              "      <td>850</td>\n",
              "      <td>4400</td>\n",
              "      <td>0</td>\n",
              "      <td>0</td>\n",
              "      <td>0</td>\n",
              "      <td>0</td>\n",
              "      <td>289754.503091</td>\n",
              "    </tr>\n",
              "    <tr>\n",
              "      <th>4</th>\n",
              "      <td>604</td>\n",
              "      <td>de_inferno</td>\n",
              "      <td>Terrorist</td>\n",
              "      <td>1</td>\n",
              "      <td>4</td>\n",
              "      <td>1</td>\n",
              "      <td>76561197960331095</td>\n",
              "      <td>False</td>\n",
              "      <td>True</td>\n",
              "      <td>True</td>\n",
              "      <td>...</td>\n",
              "      <td>0</td>\n",
              "      <td>0</td>\n",
              "      <td>0</td>\n",
              "      <td>1000</td>\n",
              "      <td>4400</td>\n",
              "      <td>0</td>\n",
              "      <td>0</td>\n",
              "      <td>0</td>\n",
              "      <td>0</td>\n",
              "      <td>254527.691176</td>\n",
              "    </tr>\n",
              "  </tbody>\n",
              "</table>\n",
              "<p>5 rows × 37 columns</p>\n",
              "</div>\n",
              "    <div class=\"colab-df-buttons\">\n",
              "\n",
              "  <div class=\"colab-df-container\">\n",
              "    <button class=\"colab-df-convert\" onclick=\"convertToInteractive('df-d1d06c3d-ec4d-461c-8507-9214bf9d7309')\"\n",
              "            title=\"Convert this dataframe to an interactive table.\"\n",
              "            style=\"display:none;\">\n",
              "\n",
              "  <svg xmlns=\"http://www.w3.org/2000/svg\" height=\"24px\" viewBox=\"0 -960 960 960\">\n",
              "    <path d=\"M120-120v-720h720v720H120Zm60-500h600v-160H180v160Zm220 220h160v-160H400v160Zm0 220h160v-160H400v160ZM180-400h160v-160H180v160Zm440 0h160v-160H620v160ZM180-180h160v-160H180v160Zm440 0h160v-160H620v160Z\"/>\n",
              "  </svg>\n",
              "    </button>\n",
              "\n",
              "  <style>\n",
              "    .colab-df-container {\n",
              "      display:flex;\n",
              "      gap: 12px;\n",
              "    }\n",
              "\n",
              "    .colab-df-convert {\n",
              "      background-color: #E8F0FE;\n",
              "      border: none;\n",
              "      border-radius: 50%;\n",
              "      cursor: pointer;\n",
              "      display: none;\n",
              "      fill: #1967D2;\n",
              "      height: 32px;\n",
              "      padding: 0 0 0 0;\n",
              "      width: 32px;\n",
              "    }\n",
              "\n",
              "    .colab-df-convert:hover {\n",
              "      background-color: #E2EBFA;\n",
              "      box-shadow: 0px 1px 2px rgba(60, 64, 67, 0.3), 0px 1px 3px 1px rgba(60, 64, 67, 0.15);\n",
              "      fill: #174EA6;\n",
              "    }\n",
              "\n",
              "    .colab-df-buttons div {\n",
              "      margin-bottom: 4px;\n",
              "    }\n",
              "\n",
              "    [theme=dark] .colab-df-convert {\n",
              "      background-color: #3B4455;\n",
              "      fill: #D2E3FC;\n",
              "    }\n",
              "\n",
              "    [theme=dark] .colab-df-convert:hover {\n",
              "      background-color: #434B5C;\n",
              "      box-shadow: 0px 1px 3px 1px rgba(0, 0, 0, 0.15);\n",
              "      filter: drop-shadow(0px 1px 2px rgba(0, 0, 0, 0.3));\n",
              "      fill: #FFFFFF;\n",
              "    }\n",
              "  </style>\n",
              "\n",
              "    <script>\n",
              "      const buttonEl =\n",
              "        document.querySelector('#df-d1d06c3d-ec4d-461c-8507-9214bf9d7309 button.colab-df-convert');\n",
              "      buttonEl.style.display =\n",
              "        google.colab.kernel.accessAllowed ? 'block' : 'none';\n",
              "\n",
              "      async function convertToInteractive(key) {\n",
              "        const element = document.querySelector('#df-d1d06c3d-ec4d-461c-8507-9214bf9d7309');\n",
              "        const dataTable =\n",
              "          await google.colab.kernel.invokeFunction('convertToInteractive',\n",
              "                                                    [key], {});\n",
              "        if (!dataTable) return;\n",
              "\n",
              "        const docLinkHtml = 'Like what you see? Visit the ' +\n",
              "          '<a target=\"_blank\" href=https://colab.research.google.com/notebooks/data_table.ipynb>data table notebook</a>'\n",
              "          + ' to learn more about interactive tables.';\n",
              "        element.innerHTML = '';\n",
              "        dataTable['output_type'] = 'display_data';\n",
              "        await google.colab.output.renderOutput(dataTable, element);\n",
              "        const docLink = document.createElement('div');\n",
              "        docLink.innerHTML = docLinkHtml;\n",
              "        element.appendChild(docLink);\n",
              "      }\n",
              "    </script>\n",
              "  </div>\n",
              "\n",
              "\n",
              "<div id=\"df-7d8b3896-6a9e-4d15-b058-d9f6a8cf89c1\">\n",
              "  <button class=\"colab-df-quickchart\" onclick=\"quickchart('df-7d8b3896-6a9e-4d15-b058-d9f6a8cf89c1')\"\n",
              "            title=\"Suggest charts\"\n",
              "            style=\"display:none;\">\n",
              "\n",
              "<svg xmlns=\"http://www.w3.org/2000/svg\" height=\"24px\"viewBox=\"0 0 24 24\"\n",
              "     width=\"24px\">\n",
              "    <g>\n",
              "        <path d=\"M19 3H5c-1.1 0-2 .9-2 2v14c0 1.1.9 2 2 2h14c1.1 0 2-.9 2-2V5c0-1.1-.9-2-2-2zM9 17H7v-7h2v7zm4 0h-2V7h2v10zm4 0h-2v-4h2v4z\"/>\n",
              "    </g>\n",
              "</svg>\n",
              "  </button>\n",
              "\n",
              "<style>\n",
              "  .colab-df-quickchart {\n",
              "      --bg-color: #E8F0FE;\n",
              "      --fill-color: #1967D2;\n",
              "      --hover-bg-color: #E2EBFA;\n",
              "      --hover-fill-color: #174EA6;\n",
              "      --disabled-fill-color: #AAA;\n",
              "      --disabled-bg-color: #DDD;\n",
              "  }\n",
              "\n",
              "  [theme=dark] .colab-df-quickchart {\n",
              "      --bg-color: #3B4455;\n",
              "      --fill-color: #D2E3FC;\n",
              "      --hover-bg-color: #434B5C;\n",
              "      --hover-fill-color: #FFFFFF;\n",
              "      --disabled-bg-color: #3B4455;\n",
              "      --disabled-fill-color: #666;\n",
              "  }\n",
              "\n",
              "  .colab-df-quickchart {\n",
              "    background-color: var(--bg-color);\n",
              "    border: none;\n",
              "    border-radius: 50%;\n",
              "    cursor: pointer;\n",
              "    display: none;\n",
              "    fill: var(--fill-color);\n",
              "    height: 32px;\n",
              "    padding: 0;\n",
              "    width: 32px;\n",
              "  }\n",
              "\n",
              "  .colab-df-quickchart:hover {\n",
              "    background-color: var(--hover-bg-color);\n",
              "    box-shadow: 0 1px 2px rgba(60, 64, 67, 0.3), 0 1px 3px 1px rgba(60, 64, 67, 0.15);\n",
              "    fill: var(--button-hover-fill-color);\n",
              "  }\n",
              "\n",
              "  .colab-df-quickchart-complete:disabled,\n",
              "  .colab-df-quickchart-complete:disabled:hover {\n",
              "    background-color: var(--disabled-bg-color);\n",
              "    fill: var(--disabled-fill-color);\n",
              "    box-shadow: none;\n",
              "  }\n",
              "\n",
              "  .colab-df-spinner {\n",
              "    border: 2px solid var(--fill-color);\n",
              "    border-color: transparent;\n",
              "    border-bottom-color: var(--fill-color);\n",
              "    animation:\n",
              "      spin 1s steps(1) infinite;\n",
              "  }\n",
              "\n",
              "  @keyframes spin {\n",
              "    0% {\n",
              "      border-color: transparent;\n",
              "      border-bottom-color: var(--fill-color);\n",
              "      border-left-color: var(--fill-color);\n",
              "    }\n",
              "    20% {\n",
              "      border-color: transparent;\n",
              "      border-left-color: var(--fill-color);\n",
              "      border-top-color: var(--fill-color);\n",
              "    }\n",
              "    30% {\n",
              "      border-color: transparent;\n",
              "      border-left-color: var(--fill-color);\n",
              "      border-top-color: var(--fill-color);\n",
              "      border-right-color: var(--fill-color);\n",
              "    }\n",
              "    40% {\n",
              "      border-color: transparent;\n",
              "      border-right-color: var(--fill-color);\n",
              "      border-top-color: var(--fill-color);\n",
              "    }\n",
              "    60% {\n",
              "      border-color: transparent;\n",
              "      border-right-color: var(--fill-color);\n",
              "    }\n",
              "    80% {\n",
              "      border-color: transparent;\n",
              "      border-right-color: var(--fill-color);\n",
              "      border-bottom-color: var(--fill-color);\n",
              "    }\n",
              "    90% {\n",
              "      border-color: transparent;\n",
              "      border-bottom-color: var(--fill-color);\n",
              "    }\n",
              "  }\n",
              "</style>\n",
              "\n",
              "  <script>\n",
              "    async function quickchart(key) {\n",
              "      const quickchartButtonEl =\n",
              "        document.querySelector('#' + key + ' button');\n",
              "      quickchartButtonEl.disabled = true;  // To prevent multiple clicks.\n",
              "      quickchartButtonEl.classList.add('colab-df-spinner');\n",
              "      try {\n",
              "        const charts = await google.colab.kernel.invokeFunction(\n",
              "            'suggestCharts', [key], {});\n",
              "      } catch (error) {\n",
              "        console.error('Error during call to suggestCharts:', error);\n",
              "      }\n",
              "      quickchartButtonEl.classList.remove('colab-df-spinner');\n",
              "      quickchartButtonEl.classList.add('colab-df-quickchart-complete');\n",
              "    }\n",
              "    (() => {\n",
              "      let quickchartButtonEl =\n",
              "        document.querySelector('#df-7d8b3896-6a9e-4d15-b058-d9f6a8cf89c1 button');\n",
              "      quickchartButtonEl.style.display =\n",
              "        google.colab.kernel.accessAllowed ? 'block' : 'none';\n",
              "    })();\n",
              "  </script>\n",
              "</div>\n",
              "\n",
              "    </div>\n",
              "  </div>\n"
            ],
            "application/vnd.google.colaboratory.intrinsic+json": {
              "type": "dataframe",
              "variable_name": "counter_strike"
            }
          },
          "metadata": {},
          "execution_count": 4
        }
      ]
    },
    {
      "cell_type": "code",
      "source": [
        "counter_strike.info()"
      ],
      "metadata": {
        "colab": {
          "base_uri": "https://localhost:8080/"
        },
        "id": "mH6Scv82j2Vj",
        "outputId": "8c882a2a-c4d3-4292-8d71-7746527c7df6"
      },
      "execution_count": 5,
      "outputs": [
        {
          "output_type": "stream",
          "name": "stdout",
          "text": [
            "<class 'pandas.core.frame.DataFrame'>\n",
            "RangeIndex: 79157 entries, 0 to 79156\n",
            "Data columns (total 37 columns):\n",
            " #   Column                       Non-Null Count  Dtype  \n",
            "---  ------                       --------------  -----  \n",
            " 0   Unnamed: 0                   79157 non-null  int64  \n",
            " 1   Map                          79157 non-null  object \n",
            " 2   Team                         79157 non-null  object \n",
            " 3   InternalTeamId               79157 non-null  int64  \n",
            " 4   MatchId                      79157 non-null  int64  \n",
            " 5   RoundId                      79157 non-null  int64  \n",
            " 6   SteamId                      79157 non-null  int64  \n",
            " 7   RoundWinner                  79157 non-null  bool   \n",
            " 8   MatchWinner                  79157 non-null  bool   \n",
            " 9   Survived                     79157 non-null  bool   \n",
            " 10  AbnormalMatch                79157 non-null  bool   \n",
            " 11  TimeAlive                    79157 non-null  float64\n",
            " 12  ScaledTimeAlive              79157 non-null  float64\n",
            " 13  AvgCentroidDistance          79157 non-null  float64\n",
            " 14  TravelledDistance            79157 non-null  float64\n",
            " 15  AvgRoundVelocity             79157 non-null  float64\n",
            " 16  AvgKillDistance              79157 non-null  float64\n",
            " 17  AvgSiteDistance              79157 non-null  float64\n",
            " 18  RLethalGrenadesThrown        79157 non-null  int64  \n",
            " 19  RNonLethalGrenadesThrown     79157 non-null  int64  \n",
            " 20  PrimaryAssaultRifle          79157 non-null  float64\n",
            " 21  PrimarySniperRifle           79157 non-null  float64\n",
            " 22  PrimaryHeavy                 79157 non-null  float64\n",
            " 23  PrimarySMG                   79157 non-null  float64\n",
            " 24  PrimaryPistol                79157 non-null  int64  \n",
            " 25  FirstKillTime                79157 non-null  float64\n",
            " 26  RoundKills                   79157 non-null  int64  \n",
            " 27  RoundAssists                 79157 non-null  int64  \n",
            " 28  RoundHeadshots               79157 non-null  int64  \n",
            " 29  RoundFlankKills              79157 non-null  int64  \n",
            " 30  RoundStartingEquipmentValue  79157 non-null  int64  \n",
            " 31  TeamStartingEquipmentValue   79157 non-null  int64  \n",
            " 32  MatchKills                   79157 non-null  int64  \n",
            " 33  MatchFlankKills              79157 non-null  int64  \n",
            " 34  MatchAssists                 79157 non-null  int64  \n",
            " 35  MatchHeadshots               79157 non-null  int64  \n",
            " 36  AvgMatchKillDist             79157 non-null  float64\n",
            "dtypes: bool(4), float64(13), int64(18), object(2)\n",
            "memory usage: 20.2+ MB\n"
          ]
        }
      ]
    },
    {
      "cell_type": "markdown",
      "source": [
        "# Fase 1: Análisis del negocio"
      ],
      "metadata": {
        "id": "wNZLPEd_hXp8"
      }
    },
    {
      "cell_type": "markdown",
      "source": [
        "## Introducción:\n",
        "\n",
        "Se nos entregó un conjunto de datos que contiene los resultados de unas partidas competitivas de Counter-Strike, donde podemos contemplar el rendimiento de los jugadores en las distintas rondas.\n",
        "\n",
        "Se nos pidió evaluar los datos y poder identificar si existe algo \"interesante\" para generar un modelo que pueda proporcionar información relevante a los patrocinadores de los equipos competitivos para futuras competencias dentro del juego.\n",
        "\n",
        "---\n",
        "\n",
        "\n"
      ],
      "metadata": {
        "id": "ZWN45Hp4hZpn"
      }
    },
    {
      "cell_type": "markdown",
      "source": [
        "##Datos que podrían estar:\n",
        "\n",
        "Sería interesante, para complementar nuestro estudio y poder tomar una evaluación más amplia en base a los distintos factores que afectan el transcurso de una ronda específica, tener los siguientes datos:\n",
        "\n",
        "- **Daño total del jugador en la ronda:** Es interesante debido a que podemos evaluar si el jugador aplicó la mayoría del daño o simplemente culminó las kills no logradas de sus compañeros.\n",
        "\n",
        "- **Porcentaje de disparos a la cabeza:** Es interesante porque puede evaluar la precisión y manejo del arma que tiene un jugador en una ronda, tomando también en cuenta la calma al momento de disparar.\n",
        "\n",
        "- **Daño recibido:** Es interesante ya que puede hablar mucho del posicionamiento de un jugador, dado que el objetivo principal a la hora de un enfrentamiento es realizar la kill recibiendo el menor daño posible.\n",
        "\n",
        "---"
      ],
      "metadata": {
        "id": "czQPwiWjNCsq"
      }
    },
    {
      "cell_type": "markdown",
      "source": [
        "##Objetivo:\n",
        "\n",
        "Con base en los datos entregados, sería interesante evaluar el tiempo que demora un jugador en hacer la primera baja (primera sangre de la ronda), ya que, entendiendo cómo funciona el videojuego, cómo se comportan las rondas y qué aspectos son relevantes para los patrocinadores de equipos profesionales, se pueden evaluar, en función de ese tiempo, muchos factores que hablan del tipo de juego del jugador, tales como:\n",
        "\n",
        "- Posicionamiento\n",
        "- Puntería y control de las armas\n",
        "- Análisis del comportamiento de la ronda (game sense)\n"
      ],
      "metadata": {
        "id": "Dsq7gE3ENH9y"
      }
    },
    {
      "cell_type": "markdown",
      "source": [
        "# Fase 2: Análisis de los datos"
      ],
      "metadata": {
        "id": "w1iMaltSjHVG"
      }
    },
    {
      "cell_type": "markdown",
      "source": [
        "Tomando en cuenta el análisis que fue señalado en la fase 1, para poder evaluar el rendimiento de la primera kill de la ronda (primera sangre), analizaremos qué características tienen correlación con la variable en cuestión."
      ],
      "metadata": {
        "id": "fJ_2U4VtjKgQ"
      }
    },
    {
      "cell_type": "code",
      "source": [
        "matriz_corr = counter_strike[counter_strike.describe().columns].corr()\n",
        "matriz_corr[\"FirstKillTime\"].sort_values(ascending=False)"
      ],
      "metadata": {
        "colab": {
          "base_uri": "https://localhost:8080/",
          "height": 1000
        },
        "id": "VExWXx_ikwaH",
        "outputId": "3edca4a4-3950-4fff-bb21-7e61bed2b3d8"
      },
      "execution_count": 6,
      "outputs": [
        {
          "output_type": "execute_result",
          "data": {
            "text/plain": [
              "FirstKillTime                  1.000000\n",
              "TimeAlive                      0.256827\n",
              "RNonLethalGrenadesThrown       0.167905\n",
              "RoundId                        0.149531\n",
              "PrimaryAssaultRifle            0.136039\n",
              "MatchKills                     0.127176\n",
              "ScaledTimeAlive                0.125179\n",
              "MatchHeadshots                 0.119018\n",
              "TeamStartingEquipmentValue     0.114982\n",
              "RLethalGrenadesThrown          0.111849\n",
              "RoundStartingEquipmentValue    0.104091\n",
              "MatchFlankKills                0.099938\n",
              "MatchAssists                   0.083915\n",
              "AvgCentroidDistance            0.082891\n",
              "RoundKills                     0.043027\n",
              "RoundFlankKills                0.040162\n",
              "RoundHeadshots                 0.032903\n",
              "TravelledDistance              0.018711\n",
              "InternalTeamId                 0.009746\n",
              "PrimaryHeavy                   0.004518\n",
              "AvgKillDistance                0.000139\n",
              "RoundAssists                  -0.008482\n",
              "SteamId                       -0.016763\n",
              "AvgRoundVelocity              -0.017864\n",
              "PrimarySMG                    -0.023065\n",
              "Unnamed: 0                    -0.026188\n",
              "MatchId                       -0.026308\n",
              "PrimarySniperRifle            -0.031452\n",
              "AvgSiteDistance               -0.048259\n",
              "AvgMatchKillDist              -0.078947\n",
              "PrimaryPistol                 -0.127039\n",
              "Name: FirstKillTime, dtype: float64"
            ],
            "text/html": [
              "<div>\n",
              "<style scoped>\n",
              "    .dataframe tbody tr th:only-of-type {\n",
              "        vertical-align: middle;\n",
              "    }\n",
              "\n",
              "    .dataframe tbody tr th {\n",
              "        vertical-align: top;\n",
              "    }\n",
              "\n",
              "    .dataframe thead th {\n",
              "        text-align: right;\n",
              "    }\n",
              "</style>\n",
              "<table border=\"1\" class=\"dataframe\">\n",
              "  <thead>\n",
              "    <tr style=\"text-align: right;\">\n",
              "      <th></th>\n",
              "      <th>FirstKillTime</th>\n",
              "    </tr>\n",
              "  </thead>\n",
              "  <tbody>\n",
              "    <tr>\n",
              "      <th>FirstKillTime</th>\n",
              "      <td>1.000000</td>\n",
              "    </tr>\n",
              "    <tr>\n",
              "      <th>TimeAlive</th>\n",
              "      <td>0.256827</td>\n",
              "    </tr>\n",
              "    <tr>\n",
              "      <th>RNonLethalGrenadesThrown</th>\n",
              "      <td>0.167905</td>\n",
              "    </tr>\n",
              "    <tr>\n",
              "      <th>RoundId</th>\n",
              "      <td>0.149531</td>\n",
              "    </tr>\n",
              "    <tr>\n",
              "      <th>PrimaryAssaultRifle</th>\n",
              "      <td>0.136039</td>\n",
              "    </tr>\n",
              "    <tr>\n",
              "      <th>MatchKills</th>\n",
              "      <td>0.127176</td>\n",
              "    </tr>\n",
              "    <tr>\n",
              "      <th>ScaledTimeAlive</th>\n",
              "      <td>0.125179</td>\n",
              "    </tr>\n",
              "    <tr>\n",
              "      <th>MatchHeadshots</th>\n",
              "      <td>0.119018</td>\n",
              "    </tr>\n",
              "    <tr>\n",
              "      <th>TeamStartingEquipmentValue</th>\n",
              "      <td>0.114982</td>\n",
              "    </tr>\n",
              "    <tr>\n",
              "      <th>RLethalGrenadesThrown</th>\n",
              "      <td>0.111849</td>\n",
              "    </tr>\n",
              "    <tr>\n",
              "      <th>RoundStartingEquipmentValue</th>\n",
              "      <td>0.104091</td>\n",
              "    </tr>\n",
              "    <tr>\n",
              "      <th>MatchFlankKills</th>\n",
              "      <td>0.099938</td>\n",
              "    </tr>\n",
              "    <tr>\n",
              "      <th>MatchAssists</th>\n",
              "      <td>0.083915</td>\n",
              "    </tr>\n",
              "    <tr>\n",
              "      <th>AvgCentroidDistance</th>\n",
              "      <td>0.082891</td>\n",
              "    </tr>\n",
              "    <tr>\n",
              "      <th>RoundKills</th>\n",
              "      <td>0.043027</td>\n",
              "    </tr>\n",
              "    <tr>\n",
              "      <th>RoundFlankKills</th>\n",
              "      <td>0.040162</td>\n",
              "    </tr>\n",
              "    <tr>\n",
              "      <th>RoundHeadshots</th>\n",
              "      <td>0.032903</td>\n",
              "    </tr>\n",
              "    <tr>\n",
              "      <th>TravelledDistance</th>\n",
              "      <td>0.018711</td>\n",
              "    </tr>\n",
              "    <tr>\n",
              "      <th>InternalTeamId</th>\n",
              "      <td>0.009746</td>\n",
              "    </tr>\n",
              "    <tr>\n",
              "      <th>PrimaryHeavy</th>\n",
              "      <td>0.004518</td>\n",
              "    </tr>\n",
              "    <tr>\n",
              "      <th>AvgKillDistance</th>\n",
              "      <td>0.000139</td>\n",
              "    </tr>\n",
              "    <tr>\n",
              "      <th>RoundAssists</th>\n",
              "      <td>-0.008482</td>\n",
              "    </tr>\n",
              "    <tr>\n",
              "      <th>SteamId</th>\n",
              "      <td>-0.016763</td>\n",
              "    </tr>\n",
              "    <tr>\n",
              "      <th>AvgRoundVelocity</th>\n",
              "      <td>-0.017864</td>\n",
              "    </tr>\n",
              "    <tr>\n",
              "      <th>PrimarySMG</th>\n",
              "      <td>-0.023065</td>\n",
              "    </tr>\n",
              "    <tr>\n",
              "      <th>Unnamed: 0</th>\n",
              "      <td>-0.026188</td>\n",
              "    </tr>\n",
              "    <tr>\n",
              "      <th>MatchId</th>\n",
              "      <td>-0.026308</td>\n",
              "    </tr>\n",
              "    <tr>\n",
              "      <th>PrimarySniperRifle</th>\n",
              "      <td>-0.031452</td>\n",
              "    </tr>\n",
              "    <tr>\n",
              "      <th>AvgSiteDistance</th>\n",
              "      <td>-0.048259</td>\n",
              "    </tr>\n",
              "    <tr>\n",
              "      <th>AvgMatchKillDist</th>\n",
              "      <td>-0.078947</td>\n",
              "    </tr>\n",
              "    <tr>\n",
              "      <th>PrimaryPistol</th>\n",
              "      <td>-0.127039</td>\n",
              "    </tr>\n",
              "  </tbody>\n",
              "</table>\n",
              "</div><br><label><b>dtype:</b> float64</label>"
            ]
          },
          "metadata": {},
          "execution_count": 6
        }
      ]
    },
    {
      "cell_type": "markdown",
      "source": [
        "Debido a la baja correlación que existe en la mayoría de las características con nuestra variable objetivo, decidimos, de manera arbitraria, seleccionar las siguientes características:\n",
        "\n",
        "- **TimeAlive:** Tiempo vivo del jugador en una ronda específica.\n",
        "\n",
        "- **AvgMatchKillDist:** Promedio de distancia de las kills dentro de una partida específica.\n",
        "\n",
        "Esto lo decidimos en función de la representatividad de dichas características y de nuestro conocimiento del juego, ya que estas representan factores clave que pueden determinar el rendimiento de un jugador durante la ronda, especialmente en una situación como realizar la primera kill, lo que puede conllevar a un dominio o superioridad dentro de la ronda."
      ],
      "metadata": {
        "id": "fWS6vEOzk2rj"
      }
    },
    {
      "cell_type": "code",
      "source": [
        "data = counter_strike[[\"FirstKillTime\", \"TimeAlive\", \"AvgMatchKillDist\", \"Survived\"]].copy()\n",
        "\n",
        "data.info()"
      ],
      "metadata": {
        "colab": {
          "base_uri": "https://localhost:8080/"
        },
        "id": "Tk06OhFDlj2-",
        "outputId": "d921e7b9-439e-44fc-bfd8-5624f42fb93f"
      },
      "execution_count": 7,
      "outputs": [
        {
          "output_type": "stream",
          "name": "stdout",
          "text": [
            "<class 'pandas.core.frame.DataFrame'>\n",
            "RangeIndex: 79157 entries, 0 to 79156\n",
            "Data columns (total 4 columns):\n",
            " #   Column            Non-Null Count  Dtype  \n",
            "---  ------            --------------  -----  \n",
            " 0   FirstKillTime     79157 non-null  float64\n",
            " 1   TimeAlive         79157 non-null  float64\n",
            " 2   AvgMatchKillDist  79157 non-null  float64\n",
            " 3   Survived          79157 non-null  bool   \n",
            "dtypes: bool(1), float64(3)\n",
            "memory usage: 1.9 MB\n"
          ]
        }
      ]
    },
    {
      "cell_type": "markdown",
      "source": [
        "Con el método `describe`, obtenemos una primera impresión del comportamiento de los datos, donde podemos evaluar que dentro de las variables no existen valores nulos **(N/A)**, además de la cantidad total de registros, que son **79,157**.\n",
        "\n",
        "Ahora realizaremos un análisis exploratorio de nuestra variable objetivo para poder observar su comportamiento dentro de nuestro conjunto de datos."
      ],
      "metadata": {
        "id": "Yz7RkCYimVS0"
      }
    },
    {
      "cell_type": "code",
      "source": [
        "data[\"FirstKillTime\"].describe().round(2)"
      ],
      "metadata": {
        "colab": {
          "base_uri": "https://localhost:8080/",
          "height": 335
        },
        "id": "t3-toHSln39v",
        "outputId": "ad31c308-4b7a-4b1f-ba2a-b3161f1a31d3"
      },
      "execution_count": 8,
      "outputs": [
        {
          "output_type": "execute_result",
          "data": {
            "text/plain": [
              "count    79157.00\n",
              "mean        58.07\n",
              "std         32.42\n",
              "min          0.00\n",
              "25%         36.27\n",
              "50%         54.77\n",
              "75%         79.07\n",
              "max        545.03\n",
              "Name: FirstKillTime, dtype: float64"
            ],
            "text/html": [
              "<div>\n",
              "<style scoped>\n",
              "    .dataframe tbody tr th:only-of-type {\n",
              "        vertical-align: middle;\n",
              "    }\n",
              "\n",
              "    .dataframe tbody tr th {\n",
              "        vertical-align: top;\n",
              "    }\n",
              "\n",
              "    .dataframe thead th {\n",
              "        text-align: right;\n",
              "    }\n",
              "</style>\n",
              "<table border=\"1\" class=\"dataframe\">\n",
              "  <thead>\n",
              "    <tr style=\"text-align: right;\">\n",
              "      <th></th>\n",
              "      <th>FirstKillTime</th>\n",
              "    </tr>\n",
              "  </thead>\n",
              "  <tbody>\n",
              "    <tr>\n",
              "      <th>count</th>\n",
              "      <td>79157.00</td>\n",
              "    </tr>\n",
              "    <tr>\n",
              "      <th>mean</th>\n",
              "      <td>58.07</td>\n",
              "    </tr>\n",
              "    <tr>\n",
              "      <th>std</th>\n",
              "      <td>32.42</td>\n",
              "    </tr>\n",
              "    <tr>\n",
              "      <th>min</th>\n",
              "      <td>0.00</td>\n",
              "    </tr>\n",
              "    <tr>\n",
              "      <th>25%</th>\n",
              "      <td>36.27</td>\n",
              "    </tr>\n",
              "    <tr>\n",
              "      <th>50%</th>\n",
              "      <td>54.77</td>\n",
              "    </tr>\n",
              "    <tr>\n",
              "      <th>75%</th>\n",
              "      <td>79.07</td>\n",
              "    </tr>\n",
              "    <tr>\n",
              "      <th>max</th>\n",
              "      <td>545.03</td>\n",
              "    </tr>\n",
              "  </tbody>\n",
              "</table>\n",
              "</div><br><label><b>dtype:</b> float64</label>"
            ]
          },
          "metadata": {},
          "execution_count": 8
        }
      ]
    },
    {
      "cell_type": "markdown",
      "source": [
        "El método `describe` nos entrega un resumen estadístico sobre la variable que fue aplicada. En este caso, podemos identificar las siguientes métricas:\n",
        "\n",
        "- **Mean 58.07:** Nos indica que el promedio de tiempo que demora un jugador en realizar la primera kill de la ronda es de **58.07** segundos.\n",
        "\n",
        "- **Std 32.42:** La desviación estándar de **32.42** sugiere que los valores individuales en nuestro conjunto de datos tienden a variar significativamente con respecto a la media **(58.07)**. Esto implica que hay una dispersión considerable entre los datos.\n",
        "\n",
        "- **Min 0.00:** Nos indica que el valor mínimo presente en nuestro conjunto de datos es **0.00**.\n",
        "\n",
        "- **25% 36.27:** Representa el primer cuartil y nos indica que hasta el **25%** de los jugadores tardan un tiempo de **36.27** segundos o menos en realizar la primera kill.\n",
        "\n",
        "- **50% 54.77:** Representa el segundo cuartil y nos indica que hasta el 50% de los jugadores tardan un tiempo de **54.77** segundos o menos en realizar la primera kill.\n",
        "\n",
        "- **75% 79.07:** Representa el tercer cuartil y nos indica que hasta el 75% de los jugadores tardan un tiempo de **79.07** segundos o menos en realizar la primera kill.\n",
        "\n",
        "- **Max 545.03:** Nos indica que el valor máximo presente en nuestro conjunto de datos es **545.03**."
      ],
      "metadata": {
        "id": "8Dd4-qAtpDxI"
      }
    },
    {
      "cell_type": "code",
      "source": [
        "plt.figure(figsize=(10, 5))\n",
        "sns.boxplot(data=data[\"FirstKillTime\"], color='skyblue')\n",
        "plt.title('Gráfico de Caja de FirstKillTime (Tiempo de primera kill)')\n",
        "plt.ylabel('FirstKillTime')\n",
        "plt.show()\n",
        "\n",
        "# contabilizacion de los outliers (metrica)\n",
        "data[\"z-score\"] = (data[\"FirstKillTime\"] - data[\"FirstKillTime\"].mean()) / data[\"FirstKillTime\"].std()\n",
        "cantidad_outliers = (np.abs(data[\"z-score\"]) > 3).sum()\n",
        "print(\"\\n***********************************************\")\n",
        "print(\"Cantidad de outliers de la variable FirstKillTime es: {}\".format(cantidad_outliers))"
      ],
      "metadata": {
        "colab": {
          "base_uri": "https://localhost:8080/",
          "height": 501
        },
        "id": "fF_5DWpDpHTD",
        "outputId": "d80d054e-c9aa-49b1-9b69-81873134bf13"
      },
      "execution_count": 9,
      "outputs": [
        {
          "output_type": "display_data",
          "data": {
            "text/plain": [
              "<Figure size 1000x500 with 1 Axes>"
            ],
            "image/png": "[encoded data removed]"
          },
          "metadata": {}
        },
        {
          "output_type": "stream",
          "name": "stdout",
          "text": [
            "\n",
            "***********************************************\n",
            "Cantidad de outliers de la variable FirstKillTime es: 373\n"
          ]
        }
      ]
    },
    {
      "cell_type": "markdown",
      "source": [
        "Luego de generar el gráfico de caja, donde podemos evaluar si hay presencia de valores atípicos, podemos identificar que dentro de todo nuestro conjunto de datos, el cual posee **79,157** registros, solo hay **373** valores atípicos.\n",
        "\n",
        "Este es un valor bastante bajo, teniendo en cuenta el volumen de nuestro conjunto de datos **(equivale al 0.47% de todos nuestros datos)**."
      ],
      "metadata": {
        "id": "n__BKzim9baJ"
      }
    },
    {
      "cell_type": "code",
      "source": [
        "fig, axs = plt.subplots(1, figsize=(24, 5))\n",
        "\n",
        "axs.hist(data['FirstKillTime'], color='purple', bins=30, edgecolor='black')\n",
        "axs.set_title('Distribución de FirstKillTime')\n",
        "axs.set_xlabel('Tiempo de la primera kill')\n",
        "axs.set_ylabel('Frecuencia')\n",
        "\n",
        "axs.set_xticks(range(0, int(data['FirstKillTime'].max()) + 50, 50))\n",
        "axs.set_xticklabels(range(0, int(data['FirstKillTime'].max()) + 50, 50))\n",
        "\n",
        "plt.show()"
      ],
      "metadata": {
        "id": "examE4VT9c-N",
        "outputId": "18dae6bb-c463-4ac3-d097-32142de07528",
        "colab": {
          "base_uri": "https://localhost:8080/",
          "height": 249
        }
      },
      "execution_count": 10,
      "outputs": [
        {
          "output_type": "display_data",
          "data": {
            "text/plain": [
              "<Figure size 2400x500 with 1 Axes>"
            ],
            "image/png": "[encoded data removed]"
          },
          "metadata": {}
        }
      ]
    },
    {
      "cell_type": "markdown",
      "source": [
        "Podemos observar que nuestra variable posee una asimetría negativa, ya que la campana se encuentra más hacia la izquierda. Esto nos indica que la mayoría de nuestros datos, es decir, los valores bajos, son más frecuentes que los valores altos.\n",
        "\n",
        "Tomando esto en cuenta, junto con la cantidad de valores atípicos, se recomienda aplicar un tratamiento **(especialmente un aislamiento)** de los valores atípicos para poder dejar los datos con una distribución lo más normal posible.\n"
      ],
      "metadata": {
        "id": "JAskeCDd-Wav"
      }
    },
    {
      "cell_type": "markdown",
      "source": [
        "#Fase 3: Tratamiento de datos\n"
      ],
      "metadata": {
        "id": "MoYtUl49-Z_Y"
      }
    },
    {
      "cell_type": "markdown",
      "source": [
        "Luego de realizar el análisis exploratorio sobre nuestras variables, decidimos incluir una variable más en nuestro conjunto de datos. La variable en cuestión es la característica **Survived**, la cual consideramos relevante para el estudio, ya que representa uno de los factores clave dentro de la partida, tomando como variable objetivo el tiempo que demora el jugador en realizar la primera muerte. En esencia, estaría bien incluir el hecho de si el jugador murió o no a la hora de realizar la primera kill."
      ],
      "metadata": {
        "id": "JmXi2TjpCUtU"
      }
    },
    {
      "cell_type": "code",
      "source": [
        "data_survived = counter_strike[\"Survived\"]\n",
        "\n",
        "data[\"Survived\"] = pd.get_dummies(data_survived, columns=[\"Survived\"], drop_first=True)"
      ],
      "metadata": {
        "id": "SkIeFHYN06A4"
      },
      "execution_count": 11,
      "outputs": []
    },
    {
      "cell_type": "markdown",
      "source": [
        "Se optó por la utilización de la función get_dummies debido a las características de nuestra variable categórica Survived, la cual es booleana y, por ende, únicamente presenta los valores de True y False. Esta elección se fundamenta en la necesidad de evitar la implementación de métodos de transformación excesivamente complejos, con el objetivo de optimizar el uso de recursos y garantizar una eficiencia adecuada en el procesamiento de datos."
      ],
      "metadata": {
        "id": "m8T-UsIqeP5k"
      }
    },
    {
      "cell_type": "markdown",
      "source": [
        "# Fase 4: Creación y entrenamiento de los modelos."
      ],
      "metadata": {
        "id": "JZYPnjEDR-HX"
      }
    },
    {
      "cell_type": "markdown",
      "source": [
        "Como se había planteado en la fase 1, sería interesante evaluar el tiempo que demora un jugador en hacer la primera baja **(primera sangre de la ronda)**.\n",
        "\n",
        "Dada esta información, realizaremos modelos de regresión con variables categóricas y otro sólo con variables numéricas para evaluar su rendimiento y proporcionar el mejor modelo para el negocio.\n",
        "\n",
        "A continuación, crearemos los modelos de **DecisionTreeRegressor, LinearRegression y RandomForestRegressor**."
      ],
      "metadata": {
        "id": "lLJNYfDsih8r"
      }
    },
    {
      "cell_type": "markdown",
      "source": [
        "## Alternativa 1 (Sin variable Categórica)"
      ],
      "metadata": {
        "id": "294kpJf2Sy_i"
      }
    },
    {
      "cell_type": "code",
      "source": [
        "X = pd.DataFrame(data[[\"TimeAlive\", \"AvgMatchKillDist\"]])\n",
        "y = pd.DataFrame(data[\"FirstKillTime\"])\n",
        "X_train, X_test, y_train, y_test = train_test_split(X, y, test_size=0.30, random_state=29)"
      ],
      "metadata": {
        "id": "qTJzYxTqVosi"
      },
      "execution_count": 12,
      "outputs": []
    },
    {
      "cell_type": "code",
      "source": [
        "# Creamos un array que contiene todos los modelos\n",
        "models = {\n",
        "    'Linear Regression': LinearRegression(),\n",
        "    'Decision Tree': DecisionTreeRegressor(max_depth=3, min_samples_split=5, random_state=29),\n",
        "    'Decision Tree II': DecisionTreeRegressor(max_depth=5, min_samples_split=6, random_state=29),\n",
        "    'Random Forest': RandomForestRegressor(criterion='squared_error', max_depth=3, min_samples_split=5),\n",
        "}"
      ],
      "metadata": {
        "id": "vAnZHZgES5bf"
      },
      "execution_count": 15,
      "outputs": []
    },
    {
      "cell_type": "code",
      "source": [
        "# Diccionario para guardar los modelos entrenados\n",
        "resultados_1 = {}\n",
        "\n",
        "for name, model in models.items():\n",
        "  # Guardar el modelo entrenado en el diccionario\n",
        "  model.fit(X_train, y_train)\n",
        "  y_pred = model.predict(X_test)\n",
        "  mae = mean_absolute_error(y_test, y_pred)\n",
        "  msle = mean_squared_log_error(y_test, y_pred)\n",
        "  r2 = r2_score(y_test, y_pred)\n",
        "  score_train = model.score(X_train, y_train)\n",
        "  print(f'{name:<20} - MAE: {mae:.2f} - MSLE: {msle:.4f} - R² test: {r2:.4f} - R² train: {score_train:.4f}')\n",
        "  # guardamos los resultados obtenidos\n",
        "  resultados_1[name] = {\n",
        "    \"MAE\": mae,\n",
        "    \"MSLE\": msle,\n",
        "    \"R² Test\": r2,\n",
        "    \"R² Train\": score_train,\n",
        "    \"Model\": model\n",
        "  }\n"
      ],
      "metadata": {
        "colab": {
          "base_uri": "https://localhost:8080/"
        },
        "id": "79skj5hdZKoC",
        "outputId": "1badfa05-a393-497a-c9e7-7c40cddf069e"
      },
      "execution_count": 16,
      "outputs": [
        {
          "output_type": "stream",
          "name": "stdout",
          "text": [
            "Linear Regression    - MAE: 23.31 - MSLE: 1.2847 - R² test: 0.0668 - R² train: 0.0725\n",
            "Decision Tree        - MAE: 22.46 - MSLE: 1.2611 - R² test: 0.1178 - R² train: 0.1391\n",
            "Decision Tree II     - MAE: 22.32 - MSLE: 1.2577 - R² test: 0.1180 - R² train: 0.1652\n"
          ]
        },
        {
          "output_type": "stream",
          "name": "stderr",
          "text": [
            "/usr/local/lib/python3.10/dist-packages/sklearn/base.py:1473: DataConversionWarning: A column-vector y was passed when a 1d array was expected. Please change the shape of y to (n_samples,), for example using ravel().\n",
            "  return fit_method(estimator, *args, **kwargs)\n"
          ]
        },
        {
          "output_type": "stream",
          "name": "stdout",
          "text": [
            "Random Forest        - MAE: 22.42 - MSLE: 1.2629 - R² test: 0.1223 - R² train: 0.1453\n"
          ]
        }
      ]
    },
    {
      "cell_type": "markdown",
      "source": [
        "##Alternativa 2 (Con variable categórica)"
      ],
      "metadata": {
        "id": "cdJHwWaKhN5_"
      }
    },
    {
      "cell_type": "code",
      "source": [
        "X = pd.DataFrame(data[[\"TimeAlive\", \"AvgMatchKillDist\", \"Survived\"]])\n",
        "\n",
        "y = pd.DataFrame(data[\"FirstKillTime\"])\n",
        "\n",
        "X_train, X_test, y_train, y_test = train_test_split(X, y, test_size=0.30, random_state=29)"
      ],
      "metadata": {
        "id": "CI2rIkWu2-Pv"
      },
      "execution_count": 17,
      "outputs": []
    },
    {
      "cell_type": "markdown",
      "source": [
        "Al aplicar **get_dummies()**, cada categoría de la variable original se transforma en una columna binaria, lo que facilita que el modelo pueda procesar la información sin necesidad de realizar más transformaciones. Esta técnica nos resulta más útil porque se tiene una variable categórica sin un orden inherente y se busca evitar la creación de relaciones artificiales entre las categorías."
      ],
      "metadata": {
        "id": "aYhcYdpxmO7R"
      }
    },
    {
      "cell_type": "code",
      "source": [
        "# Crear un array que contiene todos los modelos\n",
        "models = {\n",
        "    'Linear Regression': LinearRegression(),\n",
        "    'Decision Tree': DecisionTreeRegressor(max_depth=3, min_samples_split=5, random_state=29),\n",
        "    'Decision Tree II': DecisionTreeRegressor(max_depth=5, min_samples_split=6, random_state=29),\n",
        "    'Random Forest': RandomForestRegressor(criterion='squared_error', max_depth=3, min_samples_split=5),\n",
        "}"
      ],
      "metadata": {
        "id": "hcvmJ8IB3XOf"
      },
      "execution_count": 18,
      "outputs": []
    },
    {
      "cell_type": "code",
      "source": [
        "resultados_2 = {}\n",
        "\n",
        "for name, model in models.items():\n",
        "    # Guardar el modelo entrenado en el diccionario\n",
        "    model.fit(X_train, y_train)\n",
        "    y_pred = model.predict(X_test)\n",
        "\n",
        "    mae = mean_absolute_error(y_test, y_pred)\n",
        "    msle = mean_squared_log_error(y_test, y_pred)\n",
        "    r2 = r2_score(y_test, y_pred)\n",
        "    score_train = model.score(X_train, y_train)\n",
        "\n",
        "    print(f'{name:<20} - MAE: {mae:.2f} - MSLE: {msle:.4f} - R² test: {r2:.4f} - R² train: {score_train:.4f}')\n",
        "\n",
        "    # Guardamos los resultados obtenidos\n",
        "    resultados_2[name] = {\n",
        "        \"MAE\": mae,\n",
        "        \"MSLE\": msle,\n",
        "        \"R² Test\": r2,\n",
        "        \"R² Train\": score_train,\n",
        "        \"Model\": model\n",
        "    }"
      ],
      "metadata": {
        "colab": {
          "base_uri": "https://localhost:8080/"
        },
        "id": "mvIPg1N63ZH4",
        "outputId": "b862b58c-9348-4b08-dee3-3b67b6669898"
      },
      "execution_count": 19,
      "outputs": [
        {
          "output_type": "stream",
          "name": "stdout",
          "text": [
            "Linear Regression    - MAE: 23.31 - MSLE: 1.2836 - R² test: 0.0674 - R² train: 0.0728\n",
            "Decision Tree        - MAE: 22.46 - MSLE: 1.2611 - R² test: 0.1178 - R² train: 0.1391\n",
            "Decision Tree II     - MAE: 22.33 - MSLE: 1.2591 - R² test: 0.1172 - R² train: 0.1652\n"
          ]
        },
        {
          "output_type": "stream",
          "name": "stderr",
          "text": [
            "/usr/local/lib/python3.10/dist-packages/sklearn/base.py:1473: DataConversionWarning: A column-vector y was passed when a 1d array was expected. Please change the shape of y to (n_samples,), for example using ravel().\n",
            "  return fit_method(estimator, *args, **kwargs)\n"
          ]
        },
        {
          "output_type": "stream",
          "name": "stdout",
          "text": [
            "Random Forest        - MAE: 22.41 - MSLE: 1.2641 - R² test: 0.1228 - R² train: 0.1459\n"
          ]
        }
      ]
    },
    {
      "cell_type": "markdown",
      "source": [
        "# FASE 5: EVALUACIÓN DE LOS MODELOS"
      ],
      "metadata": {
        "id": "X7esygEf3Var"
      }
    },
    {
      "cell_type": "markdown",
      "source": [
        "## EVALUACIÓN DE MODELOS DE ALTERNATIVA 1:"
      ],
      "metadata": {
        "id": "dyhEgRjW3X2e"
      }
    },
    {
      "cell_type": "markdown",
      "source": [
        "Tomando los modelos de la alternativa 1 generados en la fase 4, realizaremos una comparación de las métricas obtenidas de cada uno para poder seleccionar el mejor modelo."
      ],
      "metadata": {
        "id": "p0dgxwVl5kak"
      }
    },
    {
      "cell_type": "code",
      "source": [
        "\n",
        "for name_model in resultados_1:\n",
        "  print(\"**********[INTERPRETACIONES DEL MODELO {}]**********\\n\".format(name_model))\n",
        "  interpretacion(name_model, X_train.columns, resultados_1[name_model][\"R² Test\"])\n",
        "  print(\"\\n\")\n",
        "  mae_interpretacion(name_model, resultados_1[name_model][\"MAE\"])\n",
        "  print(\"\\n\")\n",
        "  msle_interpretacion(name_model, resultados_1[name_model][\"MSLE\"])\n",
        "  print(\"\\n\")"
      ],
      "metadata": {
        "colab": {
          "base_uri": "https://localhost:8080/"
        },
        "id": "inlmLrpr5u9l",
        "outputId": "d3d59d56-f423-483c-bf7c-c6bc4e8fbcd7"
      },
      "execution_count": 20,
      "outputs": [
        {
          "output_type": "stream",
          "name": "stdout",
          "text": [
            "**********[INTERPRETACIONES DEL MODELO Linear Regression]**********\n",
            "\n",
            "Modelo de regresión Linear Regression 6.68% de la variabilidad de tiempo que demora un jugador en realizar la primera\n",
            "kill de la ronda se puede explicar utilizando las 3 caracteristicas.\n",
            "Caracteristicas elegidas :['TimeAlive' 'AvgMatchKillDist' 'Survived'].\n",
            "\n",
            "\n",
            "MAE: El modelo 'Linear Regression' pudo predecir que el tiempo que demora un jugador en realizar la primera kill de la ronda es ± 23.31 segundos del tiempo real.\n",
            "\n",
            "\n",
            "MSLE: El modelo 'Linear Regression' pudo predecir el tiempo que demora un jugador en realizar la primera\n",
            "kill de la ronda es de  ±  128.47% del tiempo real.\n",
            "\n",
            "\n",
            "**********[INTERPRETACIONES DEL MODELO Decision Tree]**********\n",
            "\n",
            "Modelo de regresión Decision Tree 11.78% de la variabilidad de tiempo que demora un jugador en realizar la primera\n",
            "kill de la ronda se puede explicar utilizando las 3 caracteristicas.\n",
            "Caracteristicas elegidas :['TimeAlive' 'AvgMatchKillDist' 'Survived'].\n",
            "\n",
            "\n",
            "MAE: El modelo 'Decision Tree' pudo predecir que el tiempo que demora un jugador en realizar la primera kill de la ronda es ± 22.46 segundos del tiempo real.\n",
            "\n",
            "\n",
            "MSLE: El modelo 'Decision Tree' pudo predecir el tiempo que demora un jugador en realizar la primera\n",
            "kill de la ronda es de  ±  126.11% del tiempo real.\n",
            "\n",
            "\n",
            "**********[INTERPRETACIONES DEL MODELO Decision Tree II]**********\n",
            "\n",
            "Modelo de regresión Decision Tree II 11.80% de la variabilidad de tiempo que demora un jugador en realizar la primera\n",
            "kill de la ronda se puede explicar utilizando las 3 caracteristicas.\n",
            "Caracteristicas elegidas :['TimeAlive' 'AvgMatchKillDist' 'Survived'].\n",
            "\n",
            "\n",
            "MAE: El modelo 'Decision Tree II' pudo predecir que el tiempo que demora un jugador en realizar la primera kill de la ronda es ± 22.32 segundos del tiempo real.\n",
            "\n",
            "\n",
            "MSLE: El modelo 'Decision Tree II' pudo predecir el tiempo que demora un jugador en realizar la primera\n",
            "kill de la ronda es de  ±  125.77% del tiempo real.\n",
            "\n",
            "\n",
            "**********[INTERPRETACIONES DEL MODELO Random Forest]**********\n",
            "\n",
            "Modelo de regresión Random Forest 12.23% de la variabilidad de tiempo que demora un jugador en realizar la primera\n",
            "kill de la ronda se puede explicar utilizando las 3 caracteristicas.\n",
            "Caracteristicas elegidas :['TimeAlive' 'AvgMatchKillDist' 'Survived'].\n",
            "\n",
            "\n",
            "MAE: El modelo 'Random Forest' pudo predecir que el tiempo que demora un jugador en realizar la primera kill de la ronda es ± 22.42 segundos del tiempo real.\n",
            "\n",
            "\n",
            "MSLE: El modelo 'Random Forest' pudo predecir el tiempo que demora un jugador en realizar la primera\n",
            "kill de la ronda es de  ±  126.29% del tiempo real.\n",
            "\n",
            "\n"
          ]
        }
      ]
    },
    {
      "cell_type": "markdown",
      "source": [
        "En base a los resultados obtenidos y el bajo rendimiento de los modelos, se decidió optar por el R² o coeficiente de determinación como métrica relevante para la elección del mejor modelo de predicción. Esto se debe a que el bajo rendimiento del modelo nos entrega valores de **MAE** y **MSLE** erróneos; es decir, si nos basamos únicamente en esas métricas, el modelo podría entregarnos datos que se consideran errores del negocio **(gente con tiempo de primera kill en negativo)**.\n",
        "\n",
        "El mejor modelo de la alternativa 1 es el modelo **RandomForest**, ya que, si bien hay otro modelo con un mejor rendimiento, la diferencia entre el rendimiento obtenido en entrenamiento y el rendimiento obtenido en prueba, en el caso del Random Forest, es mucho menor.\n",
        "\n",
        "`Diferencia:`\n",
        "\n"
      ],
      "metadata": {
        "id": "gn94rBrcAPlf"
      }
    },
    {
      "cell_type": "code",
      "source": [
        "print(f\"\"\"\n",
        "\n",
        "Con base en el rendimiento del modelo RandomForest  tanto en prueba como en entrenamiento,\n",
        "podemos llegar a la conclusión de que nuestro modelo no se encuentra sobreajustado,\n",
        "dado que la diferencia del R² entre entrenamiento ({resultados_1[\"Random Forest\"][\"R² Train\"]:.4f})\n",
        "y prueba ({resultados_1[\"Random Forest\"][\"R² Test\"]:.4f}) es la minima en comparacion a los otros modelos,\n",
        "lo cual indica que el modelo está generalizando de manera correcta y se comporta\n",
        "adecuadamente con datos desconocidos.\n",
        "\n",
        "Por lo tanto, este calificaría como el mejor modelo, en base a los resultados de los demás.\n",
        "\n",
        "\"\"\")"
      ],
      "metadata": {
        "colab": {
          "base_uri": "https://localhost:8080/"
        },
        "id": "-PRgGTkKXUW4",
        "outputId": "63955653-b508-4f75-de55-f4c15f05d7ca"
      },
      "execution_count": 27,
      "outputs": [
        {
          "output_type": "stream",
          "name": "stdout",
          "text": [
            "\n",
            "\n",
            "Con base en el rendimiento del modelo RandomForest  tanto en prueba como en entrenamiento, \n",
            "podemos llegar a la conclusión de que nuestro modelo no se encuentra sobreajustado, \n",
            "dado que la diferencia del R² entre entrenamiento (0.1453) \n",
            "y prueba (0.1223) es la minima en comparacion a los otros modelos, \n",
            "lo cual indica que el modelo está generalizando de manera correcta y se comporta \n",
            "adecuadamente con datos desconocidos.\n",
            "\n",
            "Por lo tanto, este calificaría como el mejor modelo, en base a los resultados de los demás.\n",
            "\n",
            "\n"
          ]
        }
      ]
    },
    {
      "cell_type": "markdown",
      "source": [
        "## EVALUACIÓN DE MODELOS ALTERNATIVA 2:\n"
      ],
      "metadata": {
        "id": "-tBEQw0b3cj7"
      }
    },
    {
      "cell_type": "code",
      "source": [
        "for name_model in resultados_2:\n",
        "  print(\"**********[INTERPRETACIONES DEL MODELO {}]**********\\n\".format(name_model))\n",
        "  interpretacion(name_model, X_train.columns, resultados_1[name_model][\"R² Test\"])\n",
        "  print(\"\\n\")\n",
        "  mae_interpretacion(name_model, resultados_1[name_model][\"MAE\"])\n",
        "  print(\"\\n\")\n",
        "  msle_interpretacion(name_model, resultados_1[name_model][\"MSLE\"])\n",
        "  print(\"\\n\")"
      ],
      "metadata": {
        "colab": {
          "base_uri": "https://localhost:8080/"
        },
        "id": "uoS6ZMsLB7WM",
        "outputId": "ef9f323f-cedb-429e-c780-087e207c53fb"
      },
      "execution_count": 28,
      "outputs": [
        {
          "output_type": "stream",
          "name": "stdout",
          "text": [
            "**********[INTERPRETACIONES DEL MODELO Linear Regression]**********\n",
            "\n",
            "Modelo de regresión Linear Regression 6.68% de la variabilidad de tiempo que demora un jugador en realizar la primera\n",
            "kill de la ronda se puede explicar utilizando las 3 caracteristicas.\n",
            "Caracteristicas elegidas :['TimeAlive' 'AvgMatchKillDist' 'Survived'].\n",
            "\n",
            "\n",
            "MAE: El modelo 'Linear Regression' pudo predecir que el tiempo que demora un jugador en realizar la primera kill de la ronda es ± 23.31 segundos del tiempo real.\n",
            "\n",
            "\n",
            "MSLE: El modelo 'Linear Regression' pudo predecir el tiempo que demora un jugador en realizar la primera\n",
            "kill de la ronda es de  ±  128.47% del tiempo real.\n",
            "\n",
            "\n",
            "**********[INTERPRETACIONES DEL MODELO Decision Tree]**********\n",
            "\n",
            "Modelo de regresión Decision Tree 11.78% de la variabilidad de tiempo que demora un jugador en realizar la primera\n",
            "kill de la ronda se puede explicar utilizando las 3 caracteristicas.\n",
            "Caracteristicas elegidas :['TimeAlive' 'AvgMatchKillDist' 'Survived'].\n",
            "\n",
            "\n",
            "MAE: El modelo 'Decision Tree' pudo predecir que el tiempo que demora un jugador en realizar la primera kill de la ronda es ± 22.46 segundos del tiempo real.\n",
            "\n",
            "\n",
            "MSLE: El modelo 'Decision Tree' pudo predecir el tiempo que demora un jugador en realizar la primera\n",
            "kill de la ronda es de  ±  126.11% del tiempo real.\n",
            "\n",
            "\n",
            "**********[INTERPRETACIONES DEL MODELO Decision Tree II]**********\n",
            "\n",
            "Modelo de regresión Decision Tree II 11.80% de la variabilidad de tiempo que demora un jugador en realizar la primera\n",
            "kill de la ronda se puede explicar utilizando las 3 caracteristicas.\n",
            "Caracteristicas elegidas :['TimeAlive' 'AvgMatchKillDist' 'Survived'].\n",
            "\n",
            "\n",
            "MAE: El modelo 'Decision Tree II' pudo predecir que el tiempo que demora un jugador en realizar la primera kill de la ronda es ± 22.32 segundos del tiempo real.\n",
            "\n",
            "\n",
            "MSLE: El modelo 'Decision Tree II' pudo predecir el tiempo que demora un jugador en realizar la primera\n",
            "kill de la ronda es de  ±  125.77% del tiempo real.\n",
            "\n",
            "\n",
            "**********[INTERPRETACIONES DEL MODELO Random Forest]**********\n",
            "\n",
            "Modelo de regresión Random Forest 12.23% de la variabilidad de tiempo que demora un jugador en realizar la primera\n",
            "kill de la ronda se puede explicar utilizando las 3 caracteristicas.\n",
            "Caracteristicas elegidas :['TimeAlive' 'AvgMatchKillDist' 'Survived'].\n",
            "\n",
            "\n",
            "MAE: El modelo 'Random Forest' pudo predecir que el tiempo que demora un jugador en realizar la primera kill de la ronda es ± 22.42 segundos del tiempo real.\n",
            "\n",
            "\n",
            "MSLE: El modelo 'Random Forest' pudo predecir el tiempo que demora un jugador en realizar la primera\n",
            "kill de la ronda es de  ±  126.29% del tiempo real.\n",
            "\n",
            "\n"
          ]
        }
      ]
    },
    {
      "cell_type": "markdown",
      "source": [
        "En el caso de la alternativa 2, donde se incluyó una variable categórica en el estudio que conlleva una gran relevancia, los rendimientos de los modelos siguen siendo bajos **(similares a los de la alternativa 1)**, por lo que se utilizará el mismo método de elección que en la alternativa 1: utilizar el **R²** como métrica relevante para la selección.\n",
        "\n",
        "Con base en esto, el mejor modelo de la alternativa 2 sería el Random Forest, ya que, al igual que en la alternativa 1, mantiene un rendimiento similar tanto en entrenamiento como en prueba.\n",
        "\n",
        "`Diferencia:`\n"
      ],
      "metadata": {
        "id": "roVYIv7PCA1c"
      }
    },
    {
      "cell_type": "code",
      "source": [
        "print(f\"\"\"\n",
        "\n",
        "Con base en el rendimiento del modelo RandomForest  tanto en prueba como en entrenamiento,\n",
        "podemos llegar a la conclusión de que nuestro modelo no se encuentra sobreajustado,\n",
        "dado que la diferencia del R² entre entrenamiento ({resultados_2[\"Random Forest\"][\"R² Train\"]:.4f})\n",
        "y prueba ({resultados_2[\"Random Forest\"][\"R² Test\"]:.4f}) es la minima en comparacion a los otros modelos,\n",
        "lo cual indica que el modelo está generalizando de manera correcta y se comporta\n",
        "adecuadamente con datos desconocidos.\n",
        "\n",
        "Por lo tanto, este calificaría como el mejor modelo, en base a los resultados de los demás.\n",
        "\n",
        "\"\"\")"
      ],
      "metadata": {
        "colab": {
          "base_uri": "https://localhost:8080/"
        },
        "id": "GPUPX8SWZCQf",
        "outputId": "b94c54ee-d55d-4af9-a6b0-813b87fd8287"
      },
      "execution_count": 29,
      "outputs": [
        {
          "output_type": "stream",
          "name": "stdout",
          "text": [
            "\n",
            "\n",
            "Con base en el rendimiento del modelo RandomForest  tanto en prueba como en entrenamiento, \n",
            "podemos llegar a la conclusión de que nuestro modelo no se encuentra sobreajustado, \n",
            "dado que la diferencia del R² entre entrenamiento (0.1459) \n",
            "y prueba (0.1228) es la minima en comparacion a los otros modelos, \n",
            "lo cual indica que el modelo está generalizando de manera correcta y se comporta \n",
            "adecuadamente con datos desconocidos.\n",
            "\n",
            "Por lo tanto, este calificaría como el mejor modelo, en base a los resultados de los demás.\n",
            "\n",
            "\n"
          ]
        }
      ]
    },
    {
      "cell_type": "markdown",
      "source": [
        "# FASE 6: DESPLIEGUE DE LOS MODELOS"
      ],
      "metadata": {
        "id": "6CiUzNolC4-F"
      }
    },
    {
      "cell_type": "code",
      "source": [
        "#Caracteristicas de los modelos\n",
        "X.columns"
      ],
      "metadata": {
        "colab": {
          "base_uri": "https://localhost:8080/"
        },
        "id": "mx8q8p7y5Vja",
        "outputId": "fca7fadc-ca94-47ba-f384-3b410de8f93e"
      },
      "execution_count": 30,
      "outputs": [
        {
          "output_type": "execute_result",
          "data": {
            "text/plain": [
              "Index(['TimeAlive', 'AvgMatchKillDist', 'Survived'], dtype='object')"
            ]
          },
          "metadata": {},
          "execution_count": 30
        }
      ]
    },
    {
      "cell_type": "markdown",
      "source": [
        "**Caracteristicas de la alternativa 1:**\n",
        "\n",
        "Las caracateristicas que se solicitan en los archivos JSON para la prediccion del modelo de la alternativa 1 son las siguientes:\n",
        "\n",
        "- TimeAlive\n",
        "- AvgMatchKillDist\n",
        "\n",
        "**Caracteristicas de la alternativa 2:**\n",
        "\n",
        "Las caracateristicas que se solicitan en los archivos JSON para la prediccion del modelo de la alternativa 1 son las siguientes:\n",
        "\n",
        "- TimeAlive\n",
        "- AvgMatchKillDist\n",
        "- Survived"
      ],
      "metadata": {
        "id": "CP-DOLZrEDVo"
      }
    },
    {
      "cell_type": "markdown",
      "source": [
        "##Alternativa 1\n"
      ],
      "metadata": {
        "id": "Za03AKFDPW4w"
      }
    },
    {
      "cell_type": "code",
      "source": [
        "Modelo = resultados_1['Random Forest'][\"Model\"]\n",
        "\n",
        "file_model = open('fw_model_1.pkl', 'wb')\n",
        "\n",
        "pickle.dump(Modelo , file_model)\n",
        "\n",
        "file_model.close()"
      ],
      "metadata": {
        "id": "qIg6ApPJFNGA"
      },
      "execution_count": 31,
      "outputs": []
    },
    {
      "cell_type": "markdown",
      "source": [
        "##Alternativa 2"
      ],
      "metadata": {
        "id": "ccYTo14qRbMT"
      }
    },
    {
      "cell_type": "code",
      "source": [
        "Modelo = resultados_2['Random Forest'][\"Model\"]\n",
        "\n",
        "file_model = open('fw_model_2.pkl', 'wb')\n",
        "\n",
        "pickle.dump(Modelo , file_model)\n",
        "\n",
        "file_model.close()"
      ],
      "metadata": {
        "id": "nN5fUC5TRdIA"
      },
      "execution_count": 32,
      "outputs": []
    },
    {
      "cell_type": "markdown",
      "source": [
        "# Conclusión (Pregunta Final)\n",
        "\n",
        "En conclusión, con los resultados obtenidos, si bien se seleccionó el mejor modelo de cada una de las alternativas, no es recomendable utilizar ninguno para producción **(buscar cumplir con el objetivo)**, ya que en este primer ciclo los modelos, en general, poseen un rendimiento demasiado bajo.\n",
        "\n",
        "Debido a esto, se dejará una lista de recomendaciones para poder elevar el rendimiento del modelo y entregar una predicción más acertiva y cercana a la realidad.\n",
        "\n",
        "**Recomendaciones:**\n",
        "\n",
        "- Aplicar normalización sobre los datos: Esto permitirá llevar todos los datos a un mismo formato de cantidad y evitar que haya valores con distintas unidades, **como miles, millones, etc.**\n",
        "\n",
        "- Aplicar tratamiento de valores atípicos: Esto permitirá reemplazar o aislar los valores que puedan disparar nuestras métricas **(especialmente la media)** y permitir que nuestros datos se distribuyan de una manera más normal.\n",
        "\n",
        "- Incluir más características relevantes al estudio: Tal como se mencionó en la **fase 1 (algunas de las posibles características)**, sería ideal evaluar qué otras características NO incluidas tienen relación con el tiempo de la primera kill e incluirlas dentro del conjunto de datos para poder mejorar el rendimiento del modelo.\n",
        "\n",
        "Tomando en cuenta esa lista de recomendaciones, es preferible realizar otro ciclo sobre las fases, considerando nuevos datos y otros tipos de tratamiento para preparar mejor el modelo y lograr un rendimiento aceptable para la producción.\n",
        "\n"
      ],
      "metadata": {
        "id": "MVHFslbWfqQH"
      }
    }
  ]
}